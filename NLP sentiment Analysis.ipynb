{
 "cells": [
  {
   "cell_type": "markdown",
   "id": "ec0a1c45",
   "metadata": {},
   "source": [
    "# Extracting Dataset from Kaggle API"
   ]
  },
  {
   "cell_type": "code",
   "execution_count": 1,
   "id": "8251b3fc",
   "metadata": {},
   "outputs": [
    {
     "name": "stdout",
     "output_type": "stream",
     "text": [
      "Please provide your Kaggle credentials to download this dataset. Learn more: http://bit.ly/kaggle-creds\n",
      "Your Kaggle username: ankit117kr\n",
      "Your Kaggle Key: ········\n",
      "Downloading imdb-dataset-of-50k-movie-reviews.zip to .\\imdb-dataset-of-50k-movie-reviews\n"
     ]
    },
    {
     "name": "stderr",
     "output_type": "stream",
     "text": [
      "100%|██████████| 25.7M/25.7M [00:31<00:00, 844kB/s] \n"
     ]
    },
    {
     "name": "stdout",
     "output_type": "stream",
     "text": [
      "\n"
     ]
    }
   ],
   "source": [
    "import opendatasets as od\n",
    "\n",
    "dataset='https://www.kaggle.com/datasets/lakshmi25npathi/imdb-dataset-of-50k-movie-reviews'\n",
    "od.download(dataset)"
   ]
  },
  {
   "cell_type": "code",
   "execution_count": 1,
   "id": "6f96d7f9",
   "metadata": {},
   "outputs": [
    {
     "data": {
      "text/html": [
       "<div>\n",
       "<style scoped>\n",
       "    .dataframe tbody tr th:only-of-type {\n",
       "        vertical-align: middle;\n",
       "    }\n",
       "\n",
       "    .dataframe tbody tr th {\n",
       "        vertical-align: top;\n",
       "    }\n",
       "\n",
       "    .dataframe thead th {\n",
       "        text-align: right;\n",
       "    }\n",
       "</style>\n",
       "<table border=\"1\" class=\"dataframe\">\n",
       "  <thead>\n",
       "    <tr style=\"text-align: right;\">\n",
       "      <th></th>\n",
       "      <th>review</th>\n",
       "      <th>sentiment</th>\n",
       "    </tr>\n",
       "  </thead>\n",
       "  <tbody>\n",
       "    <tr>\n",
       "      <th>0</th>\n",
       "      <td>One of the other reviewers has mentioned that ...</td>\n",
       "      <td>positive</td>\n",
       "    </tr>\n",
       "    <tr>\n",
       "      <th>1</th>\n",
       "      <td>A wonderful little production. &lt;br /&gt;&lt;br /&gt;The...</td>\n",
       "      <td>positive</td>\n",
       "    </tr>\n",
       "    <tr>\n",
       "      <th>2</th>\n",
       "      <td>I thought this was a wonderful way to spend ti...</td>\n",
       "      <td>positive</td>\n",
       "    </tr>\n",
       "    <tr>\n",
       "      <th>3</th>\n",
       "      <td>Basically there's a family where a little boy ...</td>\n",
       "      <td>negative</td>\n",
       "    </tr>\n",
       "    <tr>\n",
       "      <th>4</th>\n",
       "      <td>Petter Mattei's \"Love in the Time of Money\" is...</td>\n",
       "      <td>positive</td>\n",
       "    </tr>\n",
       "  </tbody>\n",
       "</table>\n",
       "</div>"
      ],
      "text/plain": [
       "                                              review sentiment\n",
       "0  One of the other reviewers has mentioned that ...  positive\n",
       "1  A wonderful little production. <br /><br />The...  positive\n",
       "2  I thought this was a wonderful way to spend ti...  positive\n",
       "3  Basically there's a family where a little boy ...  negative\n",
       "4  Petter Mattei's \"Love in the Time of Money\" is...  positive"
      ]
     },
     "execution_count": 1,
     "metadata": {},
     "output_type": "execute_result"
    }
   ],
   "source": [
    "import pandas as pd\n",
    "import numpy as np\n",
    "text = pd.read_csv('imdb-dataset-of-50k-movie-reviews/IMDB Dataset.csv')\n",
    "text.head()"
   ]
  },
  {
   "cell_type": "markdown",
   "id": "3b45404a",
   "metadata": {},
   "source": [
    "Visualizing the review column"
   ]
  },
  {
   "cell_type": "markdown",
   "id": "81ec7c57",
   "metadata": {},
   "source": [
    "# Exploratory Data Analysis"
   ]
  },
  {
   "cell_type": "code",
   "execution_count": 2,
   "id": "bcfd7468",
   "metadata": {},
   "outputs": [
    {
     "name": "stdout",
     "output_type": "stream",
     "text": [
      "<class 'pandas.core.frame.DataFrame'>\n",
      "RangeIndex: 50000 entries, 0 to 49999\n",
      "Data columns (total 2 columns):\n",
      " #   Column     Non-Null Count  Dtype \n",
      "---  ------     --------------  ----- \n",
      " 0   review     50000 non-null  object\n",
      " 1   sentiment  50000 non-null  object\n",
      "dtypes: object(2)\n",
      "memory usage: 781.4+ KB\n"
     ]
    }
   ],
   "source": [
    "text.info()"
   ]
  },
  {
   "cell_type": "code",
   "execution_count": 3,
   "id": "d5e7ce2c",
   "metadata": {},
   "outputs": [
    {
     "data": {
      "text/html": [
       "<div>\n",
       "<style scoped>\n",
       "    .dataframe tbody tr th:only-of-type {\n",
       "        vertical-align: middle;\n",
       "    }\n",
       "\n",
       "    .dataframe tbody tr th {\n",
       "        vertical-align: top;\n",
       "    }\n",
       "\n",
       "    .dataframe thead th {\n",
       "        text-align: right;\n",
       "    }\n",
       "</style>\n",
       "<table border=\"1\" class=\"dataframe\">\n",
       "  <thead>\n",
       "    <tr style=\"text-align: right;\">\n",
       "      <th></th>\n",
       "      <th>review</th>\n",
       "      <th>sentiment</th>\n",
       "    </tr>\n",
       "  </thead>\n",
       "  <tbody>\n",
       "    <tr>\n",
       "      <th>count</th>\n",
       "      <td>50000</td>\n",
       "      <td>50000</td>\n",
       "    </tr>\n",
       "    <tr>\n",
       "      <th>unique</th>\n",
       "      <td>49582</td>\n",
       "      <td>2</td>\n",
       "    </tr>\n",
       "    <tr>\n",
       "      <th>top</th>\n",
       "      <td>Loved today's show!!! It was a variety and not...</td>\n",
       "      <td>positive</td>\n",
       "    </tr>\n",
       "    <tr>\n",
       "      <th>freq</th>\n",
       "      <td>5</td>\n",
       "      <td>25000</td>\n",
       "    </tr>\n",
       "  </tbody>\n",
       "</table>\n",
       "</div>"
      ],
      "text/plain": [
       "                                                   review sentiment\n",
       "count                                               50000     50000\n",
       "unique                                              49582         2\n",
       "top     Loved today's show!!! It was a variety and not...  positive\n",
       "freq                                                    5     25000"
      ]
     },
     "execution_count": 3,
     "metadata": {},
     "output_type": "execute_result"
    }
   ],
   "source": [
    "text.describe(include='object')"
   ]
  },
  {
   "cell_type": "markdown",
   "id": "98006425",
   "metadata": {},
   "source": [
    "Herer we can see that there are some 500 dublicates row so removing dublicates row from dataset"
   ]
  },
  {
   "cell_type": "code",
   "execution_count": 4,
   "id": "58d8bc6a",
   "metadata": {},
   "outputs": [
    {
     "data": {
      "text/plain": [
       "418"
      ]
     },
     "execution_count": 4,
     "metadata": {},
     "output_type": "execute_result"
    }
   ],
   "source": [
    "text.duplicated().sum()"
   ]
  },
  {
   "cell_type": "code",
   "execution_count": 5,
   "id": "666a4448",
   "metadata": {},
   "outputs": [
    {
     "name": "stdout",
     "output_type": "stream",
     "text": [
      "0\n"
     ]
    }
   ],
   "source": [
    "text.drop_duplicates(inplace= True)\n",
    "print(text.duplicated().sum())"
   ]
  },
  {
   "cell_type": "markdown",
   "id": "6bf00309",
   "metadata": {},
   "source": [
    "Handeling any missing value in the dataset"
   ]
  },
  {
   "cell_type": "code",
   "execution_count": 6,
   "id": "bec546ba",
   "metadata": {
    "scrolled": true
   },
   "outputs": [
    {
     "data": {
      "text/plain": [
       "review       0\n",
       "sentiment    0\n",
       "dtype: int64"
      ]
     },
     "execution_count": 6,
     "metadata": {},
     "output_type": "execute_result"
    }
   ],
   "source": [
    "text.isnull().sum()"
   ]
  },
  {
   "cell_type": "markdown",
   "id": "3a2fd2ad",
   "metadata": {},
   "source": [
    "Finding target column distribution"
   ]
  },
  {
   "cell_type": "code",
   "execution_count": 7,
   "id": "7cd0fe53",
   "metadata": {},
   "outputs": [
    {
     "data": {
      "text/plain": [
       "positive    24884\n",
       "negative    24698\n",
       "Name: sentiment, dtype: int64"
      ]
     },
     "execution_count": 7,
     "metadata": {},
     "output_type": "execute_result"
    }
   ],
   "source": [
    "text['sentiment'].value_counts()"
   ]
  },
  {
   "cell_type": "markdown",
   "id": "33e7de1e",
   "metadata": {},
   "source": [
    "# Performing Text Pre-Proccessing "
   ]
  },
  {
   "cell_type": "markdown",
   "id": "2b23a098",
   "metadata": {},
   "source": [
    "Exploring the review column of the datset"
   ]
  },
  {
   "cell_type": "code",
   "execution_count": 8,
   "id": "3cbddf2e",
   "metadata": {
    "scrolled": true
   },
   "outputs": [
    {
     "data": {
      "text/plain": [
       "\"One of the other reviewers has mentioned that after watching just 1 Oz episode you'll be hooked. They are right, as this is exactly what happened with me.<br /><br />The first thing that struck me about Oz was its brutality and unflinching scenes of violence, which set in right from the word GO. Trust me, this is not a show for the faint hearted or timid. This show pulls no punches with regards to drugs, sex or violence. Its is hardcore, in the classic use of the word.<br /><br />It is called OZ as that is the nickname given to the Oswald Maximum Security State Penitentary. It focuses mainly on Emerald City, an experimental section of the prison where all the cells have glass fronts and face inwards, so privacy is not high on the agenda. Em City is home to many..Aryans, Muslims, gangstas, Latinos, Christians, Italians, Irish and more....so scuffles, death stares, dodgy dealings and shady agreements are never far away.<br /><br />I would say the main appeal of the show is due to the fact that it goes where other shows wouldn't dare. Forget pretty pictures painted for mainstream audiences, forget charm, forget romance...OZ doesn't mess around. The first episode I ever saw struck me as so nasty it was surreal, I couldn't say I was ready for it, but as I watched more, I developed a taste for Oz, and got accustomed to the high levels of graphic violence. Not just violence, but injustice (crooked guards who'll be sold out for a nickel, inmates who'll kill on order and get away with it, well mannered, middle class inmates being turned into prison bitches due to their lack of street skills or prison experience) Watching Oz, you may become comfortable with what is uncomfortable viewing....thats if you can get in touch with your darker side.\""
      ]
     },
     "execution_count": 8,
     "metadata": {},
     "output_type": "execute_result"
    }
   ],
   "source": [
    "text['review'][0]"
   ]
  },
  {
   "cell_type": "markdown",
   "id": "23f22f6a",
   "metadata": {},
   "source": [
    "Removing the html Tags from the review columns using regular expression"
   ]
  },
  {
   "cell_type": "code",
   "execution_count": 9,
   "id": "030d8eb4",
   "metadata": {},
   "outputs": [],
   "source": [
    "import re\n",
    "def remove_html(txt):\n",
    "    para=re.compile(r\"<.*?>\")\n",
    "    return para.sub('',txt)\n",
    "\n",
    "text['review']=text['review'].apply(remove_html)"
   ]
  },
  {
   "cell_type": "markdown",
   "id": "e69e9bcf",
   "metadata": {},
   "source": [
    "Since python is case sensitve language so converting all to lower case "
   ]
  },
  {
   "cell_type": "code",
   "execution_count": 10,
   "id": "d7449e62",
   "metadata": {},
   "outputs": [],
   "source": [
    "text['review']=text['review'].str.lower()"
   ]
  },
  {
   "cell_type": "markdown",
   "id": "773e305e",
   "metadata": {},
   "source": [
    "Removing any emoji because for algorithum it don't conclude meaning"
   ]
  },
  {
   "cell_type": "code",
   "execution_count": 12,
   "id": "afe0db16",
   "metadata": {},
   "outputs": [],
   "source": [
    "import emoji\n",
    "\n",
    "def replace_emoji(text):\n",
    "    return emoji.demojize(text)\n",
    "\n",
    "text['review']=text['review'].apply(replace_emoji)"
   ]
  },
  {
   "cell_type": "markdown",
   "id": "d9ecf44d",
   "metadata": {},
   "source": [
    "Removing the punctuation sign from the text"
   ]
  },
  {
   "cell_type": "code",
   "execution_count": 13,
   "id": "7cb75810",
   "metadata": {},
   "outputs": [
    {
     "name": "stdout",
     "output_type": "stream",
     "text": [
      "All these mentioned sign will be removed  !\"#$%&'()*+,-./:;<=>?@[\\]^_`{|}~\n"
     ]
    }
   ],
   "source": [
    "import string\n",
    "print('All these mentioned sign will be removed ',string.punctuation)"
   ]
  },
  {
   "cell_type": "code",
   "execution_count": 14,
   "id": "ea8f0a23",
   "metadata": {},
   "outputs": [],
   "source": [
    "def remove_punc(text):\n",
    "    for char in string.punctuation: \n",
    "        text=text.replace(char,'')\n",
    "    return text\n",
    "\n",
    "text['review']= text['review'].apply(remove_punc)"
   ]
  },
  {
   "cell_type": "code",
   "execution_count": 15,
   "id": "347e4188",
   "metadata": {
    "scrolled": true
   },
   "outputs": [
    {
     "data": {
      "text/plain": [
       "'one of the other reviewers has mentioned that after watching just 1 oz episode youll be hooked they are right as this is exactly what happened with methe first thing that struck me about oz was its brutality and unflinching scenes of violence which set in right from the word go trust me this is not a show for the faint hearted or timid this show pulls no punches with regards to drugs sex or violence its is hardcore in the classic use of the wordit is called oz as that is the nickname given to the oswald maximum security state penitentary it focuses mainly on emerald city an experimental section of the prison where all the cells have glass fronts and face inwards so privacy is not high on the agenda em city is home to manyaryans muslims gangstas latinos christians italians irish and moreso scuffles death stares dodgy dealings and shady agreements are never far awayi would say the main appeal of the show is due to the fact that it goes where other shows wouldnt dare forget pretty pictures painted for mainstream audiences forget charm forget romanceoz doesnt mess around the first episode i ever saw struck me as so nasty it was surreal i couldnt say i was ready for it but as i watched more i developed a taste for oz and got accustomed to the high levels of graphic violence not just violence but injustice crooked guards wholl be sold out for a nickel inmates wholl kill on order and get away with it well mannered middle class inmates being turned into prison bitches due to their lack of street skills or prison experience watching oz you may become comfortable with what is uncomfortable viewingthats if you can get in touch with your darker side'"
      ]
     },
     "execution_count": 15,
     "metadata": {},
     "output_type": "execute_result"
    }
   ],
   "source": [
    "text['review'][0]"
   ]
  },
  {
   "cell_type": "markdown",
   "id": "4952c573",
   "metadata": {},
   "source": [
    "So here after basic cleaning we found out there are stop words replacing them with (\"\") because these words don't contribute more to the sentiment alaysis and make build extra vectors"
   ]
  },
  {
   "cell_type": "code",
   "execution_count": 16,
   "id": "d6a416ae",
   "metadata": {},
   "outputs": [],
   "source": [
    "from nltk.corpus import stopwords\n",
    "\n",
    "sw_list = stopwords.words('english')\n",
    "\n",
    "text['review'] = text['review'].apply(lambda x: [item for item in x.split() if item not in sw_list]).apply(lambda x:\" \".join(x))"
   ]
  },
  {
   "cell_type": "code",
   "execution_count": 17,
   "id": "c4e8331b",
   "metadata": {},
   "outputs": [
    {
     "data": {
      "text/plain": [
       "'one reviewers mentioned watching 1 oz episode youll hooked right exactly happened methe first thing struck oz brutality unflinching scenes violence set right word go trust show faint hearted timid show pulls punches regards drugs sex violence hardcore classic use wordit called oz nickname given oswald maximum security state penitentary focuses mainly emerald city experimental section prison cells glass fronts face inwards privacy high agenda em city home manyaryans muslims gangstas latinos christians italians irish moreso scuffles death stares dodgy dealings shady agreements never far awayi would say main appeal show due fact goes shows wouldnt dare forget pretty pictures painted mainstream audiences forget charm forget romanceoz doesnt mess around first episode ever saw struck nasty surreal couldnt say ready watched developed taste oz got accustomed high levels graphic violence violence injustice crooked guards wholl sold nickel inmates wholl kill order get away well mannered middle class inmates turned prison bitches due lack street skills prison experience watching oz may become comfortable uncomfortable viewingthats get touch darker side'"
      ]
     },
     "execution_count": 17,
     "metadata": {},
     "output_type": "execute_result"
    }
   ],
   "source": [
    "text['review'][0]"
   ]
  },
  {
   "cell_type": "markdown",
   "id": "5cc94eef",
   "metadata": {},
   "source": [
    "# Feature Engineering"
   ]
  },
  {
   "cell_type": "markdown",
   "id": "3dfe4e7b",
   "metadata": {},
   "source": [
    "Creating a word 2 vect"
   ]
  },
  {
   "cell_type": "code",
   "execution_count": 32,
   "id": "dfb01858",
   "metadata": {},
   "outputs": [],
   "source": [
    "import gensim\n",
    "from nltk import sent_tokenize\n",
    "from gensim.models import Word2Vec\n",
    "from gensim.utils import simple_preprocess"
   ]
  },
  {
   "cell_type": "code",
   "execution_count": 33,
   "id": "e8e02b00",
   "metadata": {},
   "outputs": [
    {
     "name": "stdout",
     "output_type": "stream",
     "text": [
      "49582\n"
     ]
    }
   ],
   "source": [
    "text_corpus = [] \n",
    "for i  in text['review']:\n",
    "    raw_sent =  sent_tokenize(i)\n",
    "    for sent in raw_sent:\n",
    "        text_corpus.append(simple_preprocess(sent))\n",
    "\n",
    "print(len(text_corpus))"
   ]
  },
  {
   "cell_type": "code",
   "execution_count": 34,
   "id": "69db7ba4",
   "metadata": {},
   "outputs": [],
   "source": [
    "model= Word2Vec(window=10,\n",
    "                min_count=3,\n",
    "                vector_size=200,\n",
    "                epochs=10)"
   ]
  },
  {
   "cell_type": "code",
   "execution_count": 35,
   "id": "f9746392",
   "metadata": {},
   "outputs": [
    {
     "name": "stdout",
     "output_type": "stream",
     "text": [
      "total number of documents or text pieces  49582\n"
     ]
    }
   ],
   "source": [
    "model.build_vocab(text_corpus)\n",
    "print(\"total number of documents or text pieces \",model.corpus_count)"
   ]
  },
  {
   "cell_type": "code",
   "execution_count": 36,
   "id": "a2b8d8cb",
   "metadata": {},
   "outputs": [
    {
     "data": {
      "text/plain": [
       "(54925013, 58676190)"
      ]
     },
     "execution_count": 36,
     "metadata": {},
     "output_type": "execute_result"
    }
   ],
   "source": [
    "model.train(text_corpus,total_examples=model.corpus_count, epochs=10)"
   ]
  },
  {
   "cell_type": "code",
   "execution_count": 37,
   "id": "55801c81",
   "metadata": {},
   "outputs": [
    {
     "name": "stdout",
     "output_type": "stream",
     "text": [
      "Total no of words in the model's vocabulary 59327\n"
     ]
    }
   ],
   "source": [
    "print(\"Total no of words in the model's vocabulary\",len(model.wv.index_to_key))"
   ]
  },
  {
   "cell_type": "markdown",
   "id": "9530d38a",
   "metadata": {},
   "source": [
    "Converting the review columns into vector of 200-Dimension"
   ]
  },
  {
   "cell_type": "code",
   "execution_count": 38,
   "id": "34994bc5",
   "metadata": {},
   "outputs": [],
   "source": [
    "def document_vector(doc):\n",
    "    doc=[word for word in doc.split() if word in model.wv.index_to_key]\n",
    "    return np.mean(model.wv[doc], axis=0)"
   ]
  },
  {
   "cell_type": "code",
   "execution_count": 39,
   "id": "14b469ca",
   "metadata": {},
   "outputs": [
    {
     "name": "stderr",
     "output_type": "stream",
     "text": [
      "100%|██████████| 49582/49582 [36:21<00:00, 22.73it/s]  \n"
     ]
    }
   ],
   "source": [
    "from tqdm import tqdm\n",
    "x=[]\n",
    "for doc in tqdm(text['review'].values):\n",
    "    x.append(document_vector(doc))"
   ]
  },
  {
   "cell_type": "code",
   "execution_count": 40,
   "id": "e9f92c1c",
   "metadata": {},
   "outputs": [
    {
     "data": {
      "text/plain": [
       "(49582, 200)"
      ]
     },
     "execution_count": 40,
     "metadata": {},
     "output_type": "execute_result"
    }
   ],
   "source": [
    "x=np.array(x)\n",
    "x.shape"
   ]
  },
  {
   "cell_type": "markdown",
   "id": "57c1c63b",
   "metadata": {},
   "source": [
    "Creating dependent variable"
   ]
  },
  {
   "cell_type": "code",
   "execution_count": 42,
   "id": "dd3abda1",
   "metadata": {},
   "outputs": [
    {
     "data": {
      "text/plain": [
       "array([1, 1, 1, ..., 0, 0, 0])"
      ]
     },
     "execution_count": 42,
     "metadata": {},
     "output_type": "execute_result"
    }
   ],
   "source": [
    "y = text['sentiment']\n",
    "\n",
    "from sklearn.preprocessing import LabelEncoder\n",
    "\n",
    "encoder = LabelEncoder()\n",
    "\n",
    "y = encoder.fit_transform(y)\n",
    "\n",
    "y"
   ]
  },
  {
   "cell_type": "markdown",
   "id": "e3577eb6",
   "metadata": {},
   "source": [
    "Performing train test splitting of model"
   ]
  },
  {
   "cell_type": "code",
   "execution_count": 43,
   "id": "27ca0f55",
   "metadata": {},
   "outputs": [],
   "source": [
    "from sklearn.model_selection import train_test_split\n",
    "x_train,x_test,y_train,y_test = train_test_split(x,y,test_size=0.2,random_state=1)"
   ]
  },
  {
   "cell_type": "markdown",
   "id": "33886557",
   "metadata": {},
   "source": [
    "# Model Building"
   ]
  },
  {
   "cell_type": "code",
   "execution_count": 44,
   "id": "af0fda0e",
   "metadata": {},
   "outputs": [],
   "source": [
    "from sklearn.metrics import accuracy_score,confusion_matrix"
   ]
  },
  {
   "cell_type": "markdown",
   "id": "c7e7187e",
   "metadata": {},
   "source": [
    "Dry running on different type of machine learning algorithum"
   ]
  },
  {
   "cell_type": "code",
   "execution_count": 45,
   "id": "e4ee2aea",
   "metadata": {},
   "outputs": [
    {
     "data": {
      "text/plain": [
       "0.7854189775133609"
      ]
     },
     "execution_count": 45,
     "metadata": {},
     "output_type": "execute_result"
    }
   ],
   "source": [
    "from sklearn.naive_bayes import GaussianNB \n",
    "gnb = GaussianNB()\n",
    "\n",
    "gnb.fit(x_train,y_train)\n",
    "y_pred = gnb.predict(x_test)\n",
    "accuracy_score(y_test,y_pred)"
   ]
  },
  {
   "cell_type": "code",
   "execution_count": 70,
   "id": "580dc599",
   "metadata": {},
   "outputs": [
    {
     "data": {
      "text/plain": [
       "0.8458203085610567"
      ]
     },
     "execution_count": 70,
     "metadata": {},
     "output_type": "execute_result"
    }
   ],
   "source": [
    "from sklearn.ensemble import RandomForestClassifier\n",
    "rf = RandomForestClassifier(n_jobs=-1)\n",
    "\n",
    "rf.fit(x_train,y_train)\n",
    "y_pred = rf.predict(x_test)\n",
    "accuracy_score(y_test,y_pred)"
   ]
  },
  {
   "cell_type": "code",
   "execution_count": 51,
   "id": "1d523fa7",
   "metadata": {},
   "outputs": [
    {
     "data": {
      "text/plain": [
       "0.8867601089039024"
      ]
     },
     "execution_count": 51,
     "metadata": {},
     "output_type": "execute_result"
    }
   ],
   "source": [
    "from sklearn.svm import SVC\n",
    "sv = SVC()\n",
    "\n",
    "sv.fit(x_train,y_train)\n",
    "y_pred = sv.predict(x_test)\n",
    "accuracy_score(y_test,y_pred)"
   ]
  },
  {
   "cell_type": "code",
   "execution_count": 52,
   "id": "de14c57a",
   "metadata": {},
   "outputs": [
    {
     "data": {
      "text/plain": [
       "0.8388625592417062"
      ]
     },
     "execution_count": 52,
     "metadata": {},
     "output_type": "execute_result"
    }
   ],
   "source": [
    "from sklearn.ensemble import AdaBoostClassifier\n",
    "abc=AdaBoostClassifier()\n",
    "\n",
    "abc.fit(x_train,y_train)\n",
    "y_pred = abc.predict(x_test)\n",
    "accuracy_score(y_test,y_pred)"
   ]
  },
  {
   "cell_type": "code",
   "execution_count": 55,
   "id": "e1950eca",
   "metadata": {},
   "outputs": [
    {
     "data": {
      "text/plain": [
       "0.7702934355147726"
      ]
     },
     "execution_count": 55,
     "metadata": {},
     "output_type": "execute_result"
    }
   ],
   "source": [
    "from sklearn.naive_bayes import BernoulliNB\n",
    "bnb = BernoulliNB()\n",
    "\n",
    "bnb.fit(x_train,y_train)\n",
    "y_pred = bnb.predict(x_test)\n",
    "accuracy_score(y_test,y_pred)"
   ]
  },
  {
   "cell_type": "markdown",
   "id": "a5746711",
   "metadata": {},
   "source": [
    "Performing Hyper parameter tunning of the model"
   ]
  },
  {
   "cell_type": "code",
   "execution_count": 56,
   "id": "768ac612",
   "metadata": {},
   "outputs": [],
   "source": [
    "from sklearn.model_selection import GridSearchCV"
   ]
  },
  {
   "cell_type": "code",
   "execution_count": 72,
   "id": "51e00bce",
   "metadata": {},
   "outputs": [],
   "source": [
    "param_grid = { \n",
    "            'n_estimators':[90,100,110],\n",
    "            'criterion': ['gini',\"entropy\",\"log_loss\"],\n",
    "            'max_features':[\"sqrt\", \"log2\", None],\n",
    "            'bootstrap': [True,False],\n",
    "            'random_state': [42,None]\n",
    "            \n",
    "}"
   ]
  },
  {
   "cell_type": "code",
   "execution_count": null,
   "id": "a23ce307",
   "metadata": {
    "scrolled": false
   },
   "outputs": [],
   "source": [
    "reg = GridSearchCV(rf,param_grid=param_grid,n_jobs=-1)\n",
    "reg.fit(x_train,y_train)"
   ]
  },
  {
   "cell_type": "code",
   "execution_count": null,
   "id": "775b1ec1",
   "metadata": {},
   "outputs": [],
   "source": [
    "print(reg.best_score_)\n",
    "reg.best_params_"
   ]
  },
  {
   "cell_type": "markdown",
   "id": "e4d44c2e",
   "metadata": {},
   "source": [
    "GaussianNB\n",
    "\n",
    "Score = 0.7875204840539519\n",
    "\n",
    "parameter = {'priors': [0.35, 0.65]}"
   ]
  },
  {
   "cell_type": "code",
   "execution_count": null,
   "id": "6bec9138",
   "metadata": {},
   "outputs": [],
   "source": [
    "param_grid = { \n",
    "            'C':[90,100,110],\n",
    "            'kernel': ['gini',\"entropy\",\"log_loss\"],\n",
    "            'gamma':[\"sqrt\", \"log2\", None],\n",
    "            'class_weight': [True,False],\n",
    "            'max_iter': [42,None]\n",
    "            \n",
    "}"
   ]
  },
  {
   "cell_type": "code",
   "execution_count": null,
   "id": "da99ec63",
   "metadata": {},
   "outputs": [],
   "source": []
  }
 ],
 "metadata": {
  "kernelspec": {
   "display_name": "Python 3 (ipykernel)",
   "language": "python",
   "name": "python3"
  },
  "language_info": {
   "codemirror_mode": {
    "name": "ipython",
    "version": 3
   },
   "file_extension": ".py",
   "mimetype": "text/x-python",
   "name": "python",
   "nbconvert_exporter": "python",
   "pygments_lexer": "ipython3",
   "version": "3.9.7"
  }
 },
 "nbformat": 4,
 "nbformat_minor": 5
}
